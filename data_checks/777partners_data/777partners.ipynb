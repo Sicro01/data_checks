{
 "cells": [
  {
   "cell_type": "code",
   "execution_count": 1,
   "id": "ba11cfe0-7afa-48b0-9e95-80f74b5a1a19",
   "metadata": {},
   "outputs": [],
   "source": [
    "#########################################################################################\n",
    "# Set librarries I usually need     \t\t\t\t\t\t                            #\n",
    "#########################################################################################\n",
    "import os\n",
    "import numpy as np\n",
    "import pandas as pd\n",
    "# import plotly.graph_objects as go\n",
    "from IPython.display import display  # Enables use of display funtion for dataframes\n",
    "# Suppress warnings\n",
    "import warnings\n",
    "warnings.filterwarnings('ignore')"
   ]
  },
  {
   "cell_type": "code",
   "execution_count": 2,
   "id": "0115b2f3-d1ef-4e89-a285-18ee420378eb",
   "metadata": {},
   "outputs": [],
   "source": [
    "#########################################################################################\n",
    "# Set any display options and default values                                            #\n",
    "#########################################################################################\n",
    "pd.set_option('display.max_row', None)\n",
    "pd.set_option('display.max_columns', None)\n",
    "pd.set_option('display.max_colwidth', None)\n",
    "pd.set_option('display.width', 600)"
   ]
  },
  {
   "cell_type": "code",
   "execution_count": 3,
   "id": "5003392f-b1a9-4435-851e-03d0d78cbec2",
   "metadata": {},
   "outputs": [],
   "source": [
    "#########################################################################################\n",
    "# Load a CSV file                                                                       #\n",
    "#########################################################################################\n",
    "def step_1_load_data(filename):\n",
    "\t#-----------------------------------------------------------------------------------#\n",
    "\t# Build path to source file                                                         #\n",
    "\t#-----------------------------------------------------------------------------------#    \n",
    "\tpath = os.getcwd()\n",
    "\tfile = os.path.join(path, 'flair', filename)\n",
    "\t\n",
    "\t#-----------------------------------------------------------------------------------#\n",
    "\t# Import source data                                                                #\n",
    "\t#-----------------------------------------------------------------------------------#\n",
    "\tdf = pd.read_csv(file, sep=r'\\s*,\\s*', header=0, engine='python')\n",
    "\t\n",
    "\t#-----------------------------------------------------------------------------------#\n",
    "\t# Tidy column names as some have mixed case, spaces and white space characters etc. #\n",
    "\t#-----------------------------------------------------------------------------------#\t\n",
    "\tdf.columns = df.columns.str.strip().str.lower().str.replace(r'\\s+', '_').str.replace('-', '_').str.replace('(', '').str.replace(')', '')\n",
    "\t\n",
    "\t#-----------------------------------------------------------------------------------#\n",
    "\t# Return df                                                                         #\n",
    "\t#-----------------------------------------------------------------------------------#\n",
    "\treturn df"
   ]
  },
  {
   "cell_type": "code",
   "execution_count": 16,
   "id": "b9cea8bd-b9be-411e-9162-34f6fd8c5351",
   "metadata": {},
   "outputs": [
    {
     "data": {
      "text/html": [
       "<div>\n",
       "<style scoped>\n",
       "    .dataframe tbody tr th:only-of-type {\n",
       "        vertical-align: middle;\n",
       "    }\n",
       "\n",
       "    .dataframe tbody tr th {\n",
       "        vertical-align: top;\n",
       "    }\n",
       "\n",
       "    .dataframe thead th {\n",
       "        text-align: right;\n",
       "    }\n",
       "</style>\n",
       "<table border=\"1\" class=\"dataframe\">\n",
       "  <thead>\n",
       "    <tr style=\"text-align: right;\">\n",
       "      <th></th>\n",
       "      <th>flight_code</th>\n",
       "      <th>flight_gross_fare</th>\n",
       "    </tr>\n",
       "  </thead>\n",
       "  <tbody>\n",
       "    <tr>\n",
       "      <th>0</th>\n",
       "      <td>F8121</td>\n",
       "      <td>119</td>\n",
       "    </tr>\n",
       "    <tr>\n",
       "      <th>1</th>\n",
       "      <td>F8122</td>\n",
       "      <td>114</td>\n",
       "    </tr>\n",
       "    <tr>\n",
       "      <th>2</th>\n",
       "      <td>F8123</td>\n",
       "      <td>84</td>\n",
       "    </tr>\n",
       "    <tr>\n",
       "      <th>3</th>\n",
       "      <td>F8124</td>\n",
       "      <td>91</td>\n",
       "    </tr>\n",
       "    <tr>\n",
       "      <th>4</th>\n",
       "      <td>F8125</td>\n",
       "      <td>81</td>\n",
       "    </tr>\n",
       "  </tbody>\n",
       "</table>\n",
       "</div>"
      ],
      "text/plain": [
       "  flight_code  flight_gross_fare\n",
       "0       F8121                119\n",
       "1       F8122                114\n",
       "2       F8123                 84\n",
       "3       F8124                 91\n",
       "4       F8125                 81"
      ]
     },
     "execution_count": 16,
     "metadata": {},
     "output_type": "execute_result"
    }
   ],
   "source": [
    "df_flight_data = step_1_load_data('flair_flightdata.csv')\n",
    "df_flight_data.head()"
   ]
  },
  {
   "cell_type": "code",
   "execution_count": 17,
   "id": "8c115356-fe3a-4e98-9df5-2bf401a22f88",
   "metadata": {},
   "outputs": [
    {
     "data": {
      "text/html": [
       "<div>\n",
       "<style scoped>\n",
       "    .dataframe tbody tr th:only-of-type {\n",
       "        vertical-align: middle;\n",
       "    }\n",
       "\n",
       "    .dataframe tbody tr th {\n",
       "        vertical-align: top;\n",
       "    }\n",
       "\n",
       "    .dataframe thead th {\n",
       "        text-align: right;\n",
       "    }\n",
       "</style>\n",
       "<table border=\"1\" class=\"dataframe\">\n",
       "  <thead>\n",
       "    <tr style=\"text-align: right;\">\n",
       "      <th></th>\n",
       "      <th>valid_flight_code</th>\n",
       "    </tr>\n",
       "  </thead>\n",
       "  <tbody>\n",
       "    <tr>\n",
       "      <th>0</th>\n",
       "      <td>F8120</td>\n",
       "    </tr>\n",
       "  </tbody>\n",
       "</table>\n",
       "</div>"
      ],
      "text/plain": [
       "  valid_flight_code\n",
       "0             F8120"
      ]
     },
     "execution_count": 17,
     "metadata": {},
     "output_type": "execute_result"
    }
   ],
   "source": [
    "df_valid_flight_codes = step_1_load_data('valid_flight_codes.csv')\n",
    "df_valid_flight_codes.head()"
   ]
  },
  {
   "cell_type": "code",
   "execution_count": 22,
   "id": "5eeb2470-3da2-4bc2-a414-6c3081674d9b",
   "metadata": {},
   "outputs": [
    {
     "data": {
      "text/plain": [
       "['F8128',\n",
       " 'F8127',\n",
       " 'F8122',\n",
       " 'F8129',\n",
       " 'F8121',\n",
       " 'F8125',\n",
       " 'F8124',\n",
       " 'F8126',\n",
       " 'F8123']"
      ]
     },
     "metadata": {},
     "output_type": "display_data"
    },
    {
     "data": {
      "text/plain": [
       "9"
      ]
     },
     "metadata": {},
     "output_type": "display_data"
    },
    {
     "name": "stdout",
     "output_type": "stream",
     "text": [
      "FAIL, First 3 in error: ['F8128', 'F8127', 'F8122']\n"
     ]
    }
   ],
   "source": [
    "flight_codes_set = set(df_flight_data['flight_code'])\n",
    "valid_flight_code_set = set(df_valid_flight_codes['valid_flight_code'])\n",
    "invalid_flight_codes = list(flight_codes_set.difference(valid_flight_code_set))\n",
    "display(invalid_flight_codes)\n",
    "display(len(invalid_flight_codes))\n",
    "print('PASS') if not invalid_flight_codes else print(f'FAIL, First 3 in error: {invalid_flight_codes[0:3]}')"
   ]
  }
 ],
 "metadata": {
  "kernelspec": {
   "display_name": "Python 3 (ipykernel)",
   "language": "python",
   "name": "python3"
  },
  "language_info": {
   "codemirror_mode": {
    "name": "ipython",
    "version": 3
   },
   "file_extension": ".py",
   "mimetype": "text/x-python",
   "name": "python",
   "nbconvert_exporter": "python",
   "pygments_lexer": "ipython3",
   "version": "3.8.3"
  }
 },
 "nbformat": 4,
 "nbformat_minor": 5
}
