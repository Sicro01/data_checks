{
 "cells": [
  {
   "cell_type": "code",
   "execution_count": 2,
   "id": "ba11cfe0-7afa-48b0-9e95-80f74b5a1a19",
   "metadata": {},
   "outputs": [],
   "source": [
    "#########################################################################################\n",
    "# Set librarries I usually need     \t\t\t\t\t\t                            #\n",
    "#########################################################################################\n",
    "import os\n",
    "import numpy as np\n",
    "import pandas as pd\n",
    "# import plotly.graph_objects as go\n",
    "from IPython.display import display  # Enables use of display funtion for dataframes"
   ]
  },
  {
   "cell_type": "code",
   "execution_count": 3,
   "id": "5003392f-b1a9-4435-851e-03d0d78cbec2",
   "metadata": {},
   "outputs": [],
   "source": [
    "#########################################################################################\n",
    "# Load a CSV file                                                                       #\n",
    "#########################################################################################\n",
    "def step_1_load_data(filename):\n",
    "\t#-----------------------------------------------------------------------------------#\n",
    "\t# Build path to source file                                                         #\n",
    "\t#-----------------------------------------------------------------------------------#    \n",
    "\tpath = os.getcwd()\n",
    "\tfile = os.path.join(path, 'data', filename)\n",
    "\t\n",
    "\t#-----------------------------------------------------------------------------------#\n",
    "\t# Import source data                                                                #\n",
    "\t#-----------------------------------------------------------------------------------#\n",
    "\tdf = pd.read_csv(file, sep=r'\\s*,\\s*', header=0, encoding='ascii', engine='python')\n",
    "\t\n",
    "\t#-----------------------------------------------------------------------------------#\n",
    "\t# Tidy column names as some have mixed case, spaces and white space characters etc. #\n",
    "\t#-----------------------------------------------------------------------------------#\t\n",
    "\tdf.columns = df.columns.str.strip().str.upper().str.replace(r'\\s+', '_').str.replace('-', '_').str.replace('(', '').str.replace(')', '')\n",
    "\t\n",
    "\t#-----------------------------------------------------------------------------------#\n",
    "\t# Return df                                                                         #\n",
    "\t#-----------------------------------------------------------------------------------#\n",
    "\treturn df"
   ]
  },
  {
   "cell_type": "code",
   "execution_count": null,
   "id": "b9cea8bd-b9be-411e-9162-34f6fd8c5351",
   "metadata": {},
   "outputs": [],
   "source": [
    "step_1_load_data"
   ]
  }
 ],
 "metadata": {
  "kernelspec": {
   "display_name": "Python 3 (ipykernel)",
   "language": "python",
   "name": "python3"
  },
  "language_info": {
   "codemirror_mode": {
    "name": "ipython",
    "version": 3
   },
   "file_extension": ".py",
   "mimetype": "text/x-python",
   "name": "python",
   "nbconvert_exporter": "python",
   "pygments_lexer": "ipython3",
   "version": "3.8.3"
  }
 },
 "nbformat": 4,
 "nbformat_minor": 5
}
